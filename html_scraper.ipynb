{
 "cells": [
  {
   "cell_type": "code",
   "execution_count": 1,
   "metadata": {},
   "outputs": [],
   "source": [
    "from bs4 import BeautifulSoup"
   ]
  },
  {
   "cell_type": "code",
   "execution_count": 2,
   "metadata": {},
   "outputs": [],
   "source": [
    "import codecs, sys"
   ]
  },
  {
   "cell_type": "code",
   "execution_count": 3,
   "metadata": {},
   "outputs": [],
   "source": [
    "f=codecs.open(\"AWS_S3_Explorer.html\", 'r', 'utf-8')"
   ]
  },
  {
   "cell_type": "code",
   "execution_count": 4,
   "metadata": {},
   "outputs": [],
   "source": [
    "soup = BeautifulSoup(f)"
   ]
  },
  {
   "cell_type": "code",
   "execution_count": 5,
   "metadata": {},
   "outputs": [],
   "source": [
    "#print(soup.prettify())"
   ]
  },
  {
   "cell_type": "code",
   "execution_count": 6,
   "metadata": {},
   "outputs": [],
   "source": [
    "file_links = []\n",
    "for link in soup.find_all('a'):\n",
    "    if 'zip' in link.get('href'):\n",
    "        file_links.append(link.get('href'))"
   ]
  },
  {
   "cell_type": "code",
   "execution_count": 7,
   "metadata": {},
   "outputs": [
    {
     "data": {
      "text/plain": [
       "['https://afdata.s3-us-gov-west-1.amazonaws.com/Scenario_Data/AIS/AIS_2015_01_Zone01.zip',\n",
       " 'https://afdata.s3-us-gov-west-1.amazonaws.com/Scenario_Data/AIS/AIS_2015_01_Zone02.zip',\n",
       " 'https://afdata.s3-us-gov-west-1.amazonaws.com/Scenario_Data/AIS/AIS_2015_01_Zone03.zip',\n",
       " 'https://afdata.s3-us-gov-west-1.amazonaws.com/Scenario_Data/AIS/AIS_2016_01_Zone01.zip',\n",
       " 'https://afdata.s3-us-gov-west-1.amazonaws.com/Scenario_Data/AIS/AIS_2016_01_Zone02.zip',\n",
       " 'https://afdata.s3-us-gov-west-1.amazonaws.com/Scenario_Data/AIS/AIS_2016_01_Zone03.zip',\n",
       " 'https://afdata.s3-us-gov-west-1.amazonaws.com/Scenario_Data/AIS/AIS_2017_01_Zone01.zip',\n",
       " 'https://afdata.s3-us-gov-west-1.amazonaws.com/Scenario_Data/AIS/AIS_2017_01_Zone02.zip',\n",
       " 'https://afdata.s3-us-gov-west-1.amazonaws.com/Scenario_Data/AIS/AIS_2017_01_Zone03.zip',\n",
       " 'https://afdata.s3-us-gov-west-1.amazonaws.com/Scenario_Data/AIS/Zone10_2009_01.zip',\n",
       " 'https://afdata.s3-us-gov-west-1.amazonaws.com/Scenario_Data/AIS/Zone10_2010_01.zip',\n",
       " 'https://afdata.s3-us-gov-west-1.amazonaws.com/Scenario_Data/AIS/Zone10_2011_01.gdb.zip',\n",
       " 'https://afdata.s3-us-gov-west-1.amazonaws.com/Scenario_Data/AIS/Zone10_2012_01.gdb.zip',\n",
       " 'https://afdata.s3-us-gov-west-1.amazonaws.com/Scenario_Data/AIS/Zone10_2013_01.gdb.zip',\n",
       " 'https://afdata.s3-us-gov-west-1.amazonaws.com/Scenario_Data/AIS/Zone10_2014_01.zip',\n",
       " 'https://afdata.s3-us-gov-west-1.amazonaws.com/Scenario_Data/AIS/Zone10_2014_01.zip.wzd']"
      ]
     },
     "execution_count": 7,
     "metadata": {},
     "output_type": "execute_result"
    }
   ],
   "source": [
    "file_links"
   ]
  },
  {
   "cell_type": "markdown",
   "metadata": {},
   "source": [
    "## For Reading files directly from link"
   ]
  },
  {
   "cell_type": "code",
   "execution_count": 11,
   "metadata": {},
   "outputs": [],
   "source": [
    "import zipfile\n",
    "from io import StringIO\n",
    "import urllib.request"
   ]
  },
  {
   "cell_type": "code",
   "execution_count": 12,
   "metadata": {},
   "outputs": [],
   "source": [
    "filehandle, _ = urllib.request.urlretrieve(file_links[0])\n",
    "zip_file_object = zipfile.ZipFile(filehandle, 'r')\n",
    "first_file = zip_file_object.namelist()[0]\n",
    "file = zip_file_object.open(first_file)\n",
    "content = file.read()\n",
    "#Or read into pandas, etc"
   ]
  },
  {
   "cell_type": "markdown",
   "metadata": {},
   "source": [
    "## Download files and unzip them"
   ]
  },
  {
   "cell_type": "markdown",
   "metadata": {},
   "source": [
    "Note: Decryption is slow in Python, so it is fairly slow. Can speed up significantly with OS level tools using system. "
   ]
  },
  {
   "cell_type": "code",
   "execution_count": 8,
   "metadata": {},
   "outputs": [],
   "source": [
    "import requests, os\n",
    "from urllib.parse import urlparse\n",
    "import zipfile"
   ]
  },
  {
   "cell_type": "code",
   "execution_count": 9,
   "metadata": {},
   "outputs": [],
   "source": [
    "output_path = \"./cache/\"\n",
    "if not os.path.exists(output_path):\n",
    "    os.makedirs(output_path)"
   ]
  },
  {
   "cell_type": "code",
   "execution_count": 10,
   "metadata": {},
   "outputs": [],
   "source": [
    "for file in file_links[0:3]:\n",
    "    r = requests.get(file, allow_redirects=True)\n",
    "    a = urlparse(file)\n",
    "    open(output_path+os.path.basename(a.path), 'wb').write(r.content)\n",
    "    with zipfile.ZipFile(output_path+os.path.basename(a.path), 'r') as zip_ref:\n",
    "        zip_ref.extractall(output_path)"
   ]
  },
  {
   "cell_type": "markdown",
   "metadata": {},
   "source": [
    "## Unzip using Zip program"
   ]
  },
  {
   "cell_type": "markdown",
   "metadata": {},
   "source": [
    "Note: Call system unzip to unzip. Faster."
   ]
  },
  {
   "cell_type": "code",
   "execution_count": 8,
   "metadata": {},
   "outputs": [],
   "source": [
    "import requests, os\n",
    "from urllib.parse import urlparse\n",
    "import zipfile\n"
   ]
  },
  {
   "cell_type": "code",
   "execution_count": 12,
   "metadata": {},
   "outputs": [],
   "source": [
    "output_path = \"./cache/\"\n",
    "if not os.path.exists(output_path):\n",
    "    os.makedirs(output_path)"
   ]
  },
  {
   "cell_type": "code",
   "execution_count": 13,
   "metadata": {},
   "outputs": [],
   "source": [
    "for file in file_links[0:3]:\n",
    "    r = requests.get(file, allow_redirects=True)\n",
    "    a = urlparse(file)\n",
    "    open(output_path+os.path.basename(a.path), 'wb').write(r.content)\n",
    "    os.system(f\"unzip {output_path+os.path.basename(a.path)} -d {output_path}\")"
   ]
  },
  {
   "cell_type": "markdown",
   "metadata": {},
   "source": [
    "## Function"
   ]
  },
  {
   "cell_type": "code",
   "execution_count": 2,
   "metadata": {},
   "outputs": [],
   "source": [
    "from bs4 import BeautifulSoup\n",
    "import requests, os, codecs, sys\n",
    "from urllib.parse import urlparse\n",
    "import zipfile"
   ]
  },
  {
   "cell_type": "code",
   "execution_count": 7,
   "metadata": {},
   "outputs": [],
   "source": [
    "def my_function(html=\"AWS_S3_Explorer.html\", path=\"./cache/\"):\n",
    "    f=codecs.open(html, 'r', 'utf-8')\n",
    "    soup = BeautifulSoup(f)\n",
    "    file_links = []\n",
    "    for link in soup.find_all('a'):\n",
    "        if 'zip' in link.get('href'):\n",
    "            file_links.append(link.get('href'))\n",
    "    output_path = path\n",
    "    if not os.path.exists(output_path):\n",
    "        os.makedirs(output_path)\n",
    "    for file in file_links:\n",
    "        a = urlparse(file)\n",
    "        os.system(f\"curl -o {output_path+os.path.basename(a.path)} {file}\")\n",
    "        os.system(f\"unzip {output_path+os.path.basename(a.path)} -d {output_path}\")"
   ]
  },
  {
   "cell_type": "code",
   "execution_count": 8,
   "metadata": {},
   "outputs": [],
   "source": [
    "my_function(\"AWS_S3_Explorer.html\", \"./cache2/\")"
   ]
  },
  {
   "cell_type": "code",
   "execution_count": null,
   "metadata": {},
   "outputs": [],
   "source": []
  }
 ],
 "metadata": {
  "kernelspec": {
   "display_name": "Python 3",
   "language": "python",
   "name": "python3"
  },
  "language_info": {
   "codemirror_mode": {
    "name": "ipython",
    "version": 3
   },
   "file_extension": ".py",
   "mimetype": "text/x-python",
   "name": "python",
   "nbconvert_exporter": "python",
   "pygments_lexer": "ipython3",
   "version": "3.7.9"
  }
 },
 "nbformat": 4,
 "nbformat_minor": 4
}
